{
 "cells": [
  {
   "cell_type": "code",
   "execution_count": 20,
   "metadata": {},
   "outputs": [],
   "source": [
    "import os"
   ]
  },
  {
   "cell_type": "code",
   "execution_count": 21,
   "metadata": {},
   "outputs": [
    {
     "data": {
      "text/plain": [
       "['+§¢+[++©Â-í Á++õÁ++Û].gif',\n",
       " '+´¦++- ¦¯¦+[++©Â-í Á++õÁ++Û].gif',\n",
       " '+¼¦»©«¦Ô[++©Â-í Á++õÁ++Û].gif',\n",
       " '+Á¥¯ +++þ ¦ÙÀí[++©Â-í Á++õÁ++Û].gif',\n",
       " '+Â-² ¥ã¦Ô[++©Â-í Á++õÁ++Û].gif',\n",
       " '+Ñ+++¡ÁÁ +¯ÃÏ+õ[++©Â-í Á++õÁ++Û].gif',\n",
       " '+Û+õ¦ó[++©Â-í Á++õÁ++Û].gif',\n",
       " '+Û+õ¦\\udb56[++©Â-í Á++õÁ++Û].gif',\n",
       " '+ý©« +»-í+°[++©Â-í Á++õÁ++Û].gif',\n",
       " '+ý©« ¥¯©˦¤[++©Â-í Á++õÁ++Û].gif',\n",
       " '+ý©«+Ã +Ê+°[++©Â-í Á++õÁ++Û].gif',\n",
       " '+ý©«¦¬¾ ¦+[++©Â-í Á++õÁ++Û].gif',\n",
       " '+þ¦·¦¦+¦ ¦+ ¥¾¦+[++©Â-í Á++õÁ++Û].gif',\n",
       " '+ß++©«[++©Â-í Á++õÁ++Û].gif',\n",
       " '+۩ÂÀþ+í+¡[++©Â-í Á++õÁ++Û].gif',\n",
       " '+ަ¦++[++©Â-í Á++õÁ++Û].gif',\n",
       " '-+¦ЦÔ[++©Â-í Á++õÁ++Û].gif',\n",
       " '-+¦\\udb66[++©Â-í Á++õÁ++Û].gif',\n",
       " '-¦¥¸¢- ¦ÙÀí[++©Â-í Á++õÁ++Û].gif',\n",
       " '-ª++¦ß[++©Â-í Á++õÁ++Û].gif',\n",
       " '-ÁÁ\\xad[++©Â-í Á++õÁ++Û].gif',\n",
       " '-\\ud9a6¦º[++©Â-í Á++õÁ++Û].gif',\n",
       " '1.gif',\n",
       " '10.gif',\n",
       " '11.gif',\n",
       " '12.gif',\n",
       " '13.gif',\n",
       " '14.gif',\n",
       " '15.gif',\n",
       " '2.gif',\n",
       " '3.gif',\n",
       " '4.gif',\n",
       " '5.gif',\n",
       " '6.gif',\n",
       " '7.gif',\n",
       " '8.gif',\n",
       " '9.gif',\n",
       " 'sheet.zip',\n",
       " 'TV +»-í+° ä¦¬ ÁÐ +- Ѧ[++©Â-í Á++õÁ++Û].gif',\n",
       " 'TV +»-í+° ä¦¬ ÁÐ +-[++©Â-í Á++õÁ++Û].gif',\n",
       " '¢+¦-¦¦[++©Â-í Á++õÁ++Û].gif',\n",
       " '¢+¦Þ[++©Â-í Á++õÁ++Û].gif',\n",
       " '¢¤¢¤ ¦¦¥ã¾[++©Â-í Á++õÁ++Û].gif',\n",
       " '¢¦¢-+Ã +¦ò[++©Â-í Á++õÁ++Û].gif',\n",
       " '¢ú+Ë +-©À-²[++©Â-í Á++õÁ++Û].gif',\n",
       " '¥¯©¦ +¢¥æÙ[++©Â-í Á++õÁ++Û].gif',\n",
       " '¥¯©¦+¦ ¦ÙÀí[++©Â-í Á++õÁ++Û].gif',\n",
       " '¥¾+¢¦·++[++©Â-í Á++õÁ++Û].gif',\n",
       " '¥ã¦Ô ¦°Àµ ÁЩ«[++©Â-í Á++õÁ++Û].gif',\n",
       " '¥÷-÷¥¯ ¥÷-÷¥¯[++©Â-í Á++õÁ++Û].gif',\n",
       " '¥÷©¥¯ ¦®¦¬¥¯[++©Â-í Á++õÁ++Û].gif',\n",
       " '¥÷©Â Á+-÷ ¥ã¦Ô Á+-÷[++©Â-í Á++õÁ++Û].gif',\n",
       " '¦+ Á++²[++©Â-í Á++õÁ++Û].gif',\n",
       " '¦+¦+¹ Ãʩ˦¤-+¦¦Ï+Á¦¯[++©Â-í Á++õÁ++Û].gif',\n",
       " '¦+¦+¹ Ãʩ˦¤[++©Â-í Á++õÁ++Û].gif',\n",
       " '¦+¦í +Û++ ÃÔä+®[++©Â-í Á++õÁ++Û].gif',\n",
       " '¦+¦þ+í+¡[++©Â-í Á++õÁ++Û].gif',\n",
       " '¦+¦զí+í+¡[++©Â-í Á++õÁ++Û].gif',\n",
       " '¦+©Â ¦½+þ¸[++©Â-í Á++õÁ++Û].gif',\n",
       " '¦+¸-Ò[++©Â-í Á++õÁ++Û].gif',\n",
       " '¦+Á+¦Î +§Á+¦Î[++©Â-í Á++õÁ++Û].gif',\n",
       " '¦+Á¤+¦ ¦µ+´[++©Â-í Á++õÁ++Û].gif',\n",
       " '¦_+´ ¦¬¦½[++©Â-í Á++õÁ++Û].gif',\n",
       " '¦_+´¦Ò[++©Â-í Á++õÁ++Û].gif',\n",
       " '¦¢+¦ +ȥ¯+õ[++©Â-í Á++õÁ++Û].gif',\n",
       " '¦¦[++©Â-í Á++õÁ++Û].gif',\n",
       " '¦¦¦©+´+¦ ¢¦©ËÃ-[++©Â-í Á++õÁ++Û].gif',\n",
       " '¦¦Àí +ʦÔ -+¦¡[++©Â-í Á++õÁ++Û].gif',\n",
       " '¦§ ++©©«[++©Â-í Á++õÁ++Û].gif',\n",
       " '¦¨¦¨ Á¦¥ã¾[++©Â-í Á++õÁ++Û].gif',\n",
       " '¦©+° +¡-¸[++©Â-í Á++õÁ++Û].gif',\n",
       " '¦©Á+ ¦¯++¦¦[++©Â-í Á++õÁ++Û].gif',\n",
       " '¦¬+¦À¦ ÃϦ-¾[++©Â-í Á++õÁ++Û].gif',\n",
       " '¦¬¦- -Í+Ã +¡+°+í[++©Â-í Á++õÁ++Û].gif',\n",
       " '¦¬¦±¥¯[++©Â-í Á++õÁ++Û].gif',\n",
       " '¦±ÃӦÔ[++©Â-í Á++õÁ++Û].gif',\n",
       " '¦µ-¢+[++©Â-í Á++õÁ++Û].gif',\n",
       " '¦·+÷+°¦µ[++©Â-í Á++õÁ++Û].gif',\n",
       " '¦½-÷¦¦[++©Â-í Á++õÁ++Û].gif',\n",
       " '¦½[++©Â-í Á++õÁ++Û].gif',\n",
       " '¦½¦++¦+¦[++©Â-í Á++õÁ++Û].gif',\n",
       " '¦Ì Á¹À» ¦í++[++©Â-í Á++õÁ++Û].gif',\n",
       " '¦Ì[++©Â-í Á++õÁ++Û].gif',\n",
       " '¦í++[++©Â-í Á++õÁ++Û].gif',\n",
       " '¦í++¦µ[++©Â-í Á++õÁ++Û].gif',\n",
       " '¦í++©-+¦[++©Â-í Á++õÁ++Û].gif',\n",
       " '¦Ô-¸¦µ+À[++©Â-í Á++õÁ++Û].gif',\n",
       " '¦ÔÁÁï¦¬+õ[++©Â-í Á++õÁ++Û].gif',\n",
       " '¦Ù++[++©Â-í Á++õÁ++Û].gif',\n",
       " '¦ÝÀí+- -+¦\\udb66[++©Â-í Á++õÁ++Û].gif',\n",
       " '¦ÝÁթº[++©Â-í Á++õÁ++Û].gif',\n",
       " '¦ÝÃÔ+Ã ¦¢[++©Â-í Á++õÁ++Û].gif',\n",
       " '¦ÝÃÔÂÑ[++©Â-í Á++õÁ++Û].gif',\n",
       " '¦̩-+¦ ¦í++[++©Â-í Á++õÁ++Û].gif',\n",
       " '¦ӥʦÙ+õ[++©Â-í Á++õÁ++Û].gif',\n",
       " '¦ݦÔ+Ô+¦[++©Â-í Á++õÁ++Û].gif',\n",
       " '©©¦¦©+¦[++©Â-í Á++õÁ++Û].gif',\n",
       " '©«Á٥æÔ ¦ÙÀí[++©Â-í Á++õÁ++Û].gif',\n",
       " '©\\xad+®¾ ¦ÌÁ++Û[++©Â-í Á++õÁ++Û].gif',\n",
       " '©ÂÀþ-í ¥ã¾-í[++©Â-í Á++õÁ++Û].gif',\n",
       " '©̥㩫[++©Â-í Á++õÁ++Û].gif',\n",
       " 'Á++¡¦¬¾ ¦ÌÁ++Û[++©Â-í Á++õÁ++Û].gif',\n",
       " 'Á+¦¦ ¦¾+Õ[++©Â-í Á++õÁ++Û].gif',\n",
       " 'Ái¦+ ¦Ì[++©Â-í Á++õÁ++Û].gif',\n",
       " 'Ái¦+ ÃϦí ¦¢+¦¤¦+[++©Â-í Á++õÁ++Û].gif',\n",
       " 'Á¨Á+¦¾ +»-í+°[++©Â-í Á++õÁ++Û].gif',\n",
       " 'ÁÁÀ¦¦¦ã-[++©Â-í Á++õÁ++Û].gif',\n",
       " 'Â+¦¦¥ã+õ[++©Â-í Á++õÁ++Û].gif',\n",
       " 'ã¦ã¦ã¦[++©Â-í Á++õÁ++Û].gif',\n",
       " 'ÃÃ+-ãÊ[++©Â-í Á++õÁ++Û].gif',\n",
       " 'ÃæÙ+¦+++Ã ©\\xadÃÞ[++©Â-í Á++õÁ++Û].gif',\n",
       " 'Ã̦Á+¦ -©-©[++©Â-í Á++õÁ++Û].gif',\n",
       " 'ÃЦ¦ ¦ÙÀí[++©Â-í Á++õÁ++Û].gif',\n",
       " 'ÃЦ¦++ ¦¹¦¢ 100©Ý+Ã +º++ÁÚ[++©Â-í Á++õÁ++Û].gif',\n",
       " 'Ã\\ud85a-¥[++©Â-í Á++õÁ++Û].gif',\n",
       " '㦦þ㦦þ[++©Â-í Á++õÁ++Û].gif']"
      ]
     },
     "execution_count": 21,
     "metadata": {},
     "output_type": "execute_result"
    }
   ],
   "source": [
    "file_path = '/Users/leh_desktop/Documents/github-repository/voice-home-training-front/src/src/sheet'\n",
    "file_names = os.listdir(file_path)\n",
    "file_names"
   ]
  },
  {
   "cell_type": "code",
   "execution_count": 22,
   "metadata": {},
   "outputs": [
    {
     "ename": "FileExistsError",
     "evalue": "[WinError 183] 파일이 이미 있으므로 만들 수 없습니다: '/Users/leh_desktop/Documents/github-repository/voice-home-training-front/src/src/sheet\\\\+§¢+[++©Â-í Á++õÁ++Û].gif' -> '/Users/leh_desktop/Documents/github-repository/voice-home-training-front/src/src/sheet\\\\1.gif'",
     "output_type": "error",
     "traceback": [
      "\u001b[1;31m---------------------------------------------------------------------------\u001b[0m",
      "\u001b[1;31mFileExistsError\u001b[0m                           Traceback (most recent call last)",
      "Cell \u001b[1;32mIn[22], line 8\u001b[0m\n\u001b[0;32m      6\u001b[0m dst \u001b[38;5;241m=\u001b[39m os\u001b[38;5;241m.\u001b[39mpath\u001b[38;5;241m.\u001b[39mjoin(file_path, dst)\n\u001b[0;32m      7\u001b[0m save_name[\u001b[38;5;124m'\u001b[39m\u001b[38;5;124mimages\u001b[39m\u001b[38;5;124m'\u001b[39m]\u001b[38;5;241m.\u001b[39mappend(dst)\n\u001b[1;32m----> 8\u001b[0m \u001b[43mos\u001b[49m\u001b[38;5;241;43m.\u001b[39;49m\u001b[43mrename\u001b[49m\u001b[43m(\u001b[49m\u001b[43msrc\u001b[49m\u001b[43m,\u001b[49m\u001b[43m \u001b[49m\u001b[43mdst\u001b[49m\u001b[43m)\u001b[49m\n\u001b[0;32m      9\u001b[0m i \u001b[38;5;241m+\u001b[39m\u001b[38;5;241m=\u001b[39m \u001b[38;5;241m1\u001b[39m\n",
      "\u001b[1;31mFileExistsError\u001b[0m: [WinError 183] 파일이 이미 있으므로 만들 수 없습니다: '/Users/leh_desktop/Documents/github-repository/voice-home-training-front/src/src/sheet\\\\+§¢+[++©Â-í Á++õÁ++Û].gif' -> '/Users/leh_desktop/Documents/github-repository/voice-home-training-front/src/src/sheet\\\\1.gif'"
     ]
    }
   ],
   "source": [
    "i = 1\n",
    "save_name = {\"images\":[]}\n",
    "for name in file_names:\n",
    "    src = os.path.join(file_path, name)\n",
    "    dst = str(i) + '.gif'\n",
    "    dst = os.path.join(file_path, dst)\n",
    "    save_name['images'].append(dst)\n",
    "    os.rename(src, dst)\n",
    "    i += 1"
   ]
  },
  {
   "cell_type": "code",
   "execution_count": 17,
   "metadata": {},
   "outputs": [],
   "source": [
    "import json\n",
    "# 딕셔너리를 JSON 파일로 저장\n",
    "with open(f'/Users/leh_desktop/Documents/github-repository/voice-home-training-front/src/routes/sheet-image-path.json', 'w') as json_file:\n",
    "    json.dump(save_name, json_file, indent=4)"
   ]
  },
  {
   "cell_type": "code",
   "execution_count": null,
   "metadata": {},
   "outputs": [],
   "source": []
  }
 ],
 "metadata": {
  "kernelspec": {
   "display_name": "Python 3",
   "language": "python",
   "name": "python3"
  },
  "language_info": {
   "codemirror_mode": {
    "name": "ipython",
    "version": 3
   },
   "file_extension": ".py",
   "mimetype": "text/x-python",
   "name": "python",
   "nbconvert_exporter": "python",
   "pygments_lexer": "ipython3",
   "version": "3.12.3"
  }
 },
 "nbformat": 4,
 "nbformat_minor": 2
}
